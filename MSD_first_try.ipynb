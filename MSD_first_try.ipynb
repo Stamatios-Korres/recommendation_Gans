{
 "cells": [
  {
   "cell_type": "code",
   "execution_count": 1,
   "metadata": {},
   "outputs": [],
   "source": [
    "import numpy as np \n",
    "import pandas as pd \n",
    "import mf\n",
    "from nfc.src.mlp import MLP as mlp\n",
    "from scipy.sparse import csr_matrix\n",
    "from mf import MF "
   ]
  },
  {
   "cell_type": "code",
   "execution_count": null,
   "metadata": {},
   "outputs": [],
   "source": [
    "# Read data from file and store them to data_structures\n",
    "f = open('MSD/train_triplets.txt', 'r')\n",
    "songs_count = dict()\n",
    "songs_per_user = dict()\n",
    "user_to_songs = dict() \n",
    "valid_songs = set()\n",
    "for line in f:\n",
    "    user,song,_ = line.strip().split('\\t')\n",
    "    valid_songs.add(song)\n",
    "    if song in songs_count:\n",
    "        songs_count[song]+=1\n",
    "    else:\n",
    "        songs_count[song] = 1\n",
    "    if user in user_to_songs:\n",
    "        user_to_songs[user].add(song)\n",
    "    else:\n",
    "        user_to_songs[user] = set([song])\n",
    "    if user in songs_per_user:\n",
    "        songs_per_user[user]+=1\n",
    "    else:\n",
    "        songs_per_user[user] = 1\n",
    "f.close()"
   ]
  },
  {
   "cell_type": "code",
   "execution_count": null,
   "metadata": {},
   "outputs": [],
   "source": [
    "min_number_of_songs = 20 \n",
    "min_number_of_listaeners = 200\n",
    "valid_songs = [s for s in valid_songs if songs_count[s] >= min_number_of_listeners]\n",
    "user_to_songs = {k: v for k, v in user_to_songs.items() if songs_per_user[k]>=min_number_of_songs}\n",
    "\n",
    "print(\"DataSet was read. We have\",len(valid_songs),\"songs\")\n",
    "# Data preprocessing - Only keep users with more than 20 songs and songs that have been listened by at least 200 users!\n",
    "\n",
    "for user,user_songs in user_to_songs.items():\n",
    "    new_list = [s for s in list(user_songs) if songs_count[s] >= min_number_of_listeners]\n",
    "    user_to_songs[user] = new_list\n",
    "\n",
    "user_data = {k: v for k, v in user_to_songs.items() if v}\n",
    "user_to_songs = None # Release Memory \n",
    "\n",
    "# print(\"Number of users are:\",len(user_data))\n",
    "# Creating sparse matrix Coordinate Format (COO)\n",
    "\n",
    "users = {}\n",
    "songs = {}\n",
    "i = 0 # Index for users\n",
    "for user in user_data.keys():\n",
    "    users[i] = user\n",
    "    i+=1\n",
    "j = 0 # index for songs\n",
    "for song in valid_songs:\n",
    "    songs[j] = song\n",
    "    j+=1"
   ]
  },
  {
   "cell_type": "code",
   "execution_count": null,
   "metadata": {},
   "outputs": [],
   "source": [
    "number_of_users = len(users)\n",
    "number_of_songs = len(songs)\n",
    "print(number_of_users,number_of_songs)\n",
    "\n",
    "# Prepare data for sparse representation\n",
    "row = []\n",
    "column = []\n",
    "data = []\n",
    "for user_index,user in users.items():\n",
    "    for song_index,song in songs.items():\n",
    "        row.append(user_index)\n",
    "        column.append(song_index)\n",
    "        # Implicit feedback (1 if the user has interacted with the song, 0 else)\n",
    "        \n",
    "        data.append(1 if (song in user_to_songs[user]) else 0)\n",
    "user_data = None"
   ]
  },
  {
   "cell_type": "code",
   "execution_count": 3,
   "metadata": {},
   "outputs": [],
   "source": [
    "ser_to_songs = None # Release Memory         \n",
    "row = np.array(row)\n",
    "column = np.array(column)\n",
    "data = np.array(data)\n",
    "R = csr_matrix((data, (row, column)),shape=(number_of_users,number_of_songs))\n",
    "mf = MF(R, 5, 0.05, 1, 20)"
   ]
  },
  {
   "cell_type": "code",
   "execution_count": 2,
   "metadata": {},
   "outputs": [],
   "source": [
    "row = np.array([1,2,3,4])\n",
    "column = np.array([0,3,1,1])\n",
    "data = np.array([1,2,3,4])\n",
    "R = csr_matrix((data, (row, column)),shape=(5,5))"
   ]
  },
  {
   "cell_type": "code",
   "execution_count": 11,
   "metadata": {},
   "outputs": [
    {
     "data": {
      "text/plain": [
       "0"
      ]
     },
     "execution_count": 11,
     "metadata": {},
     "output_type": "execute_result"
    }
   ],
   "source": [
    "R[2,2]"
   ]
  },
  {
   "cell_type": "code",
   "execution_count": null,
   "metadata": {},
   "outputs": [],
   "source": []
  }
 ],
 "metadata": {
  "kernelspec": {
   "display_name": "Python 3",
   "language": "python",
   "name": "python3"
  },
  "language_info": {
   "codemirror_mode": {
    "name": "ipython",
    "version": 3
   },
   "file_extension": ".py",
   "mimetype": "text/x-python",
   "name": "python",
   "nbconvert_exporter": "python",
   "pygments_lexer": "ipython3",
   "version": "3.6.8"
  },
  "varInspector": {
   "cols": {
    "lenName": 16,
    "lenType": 16,
    "lenVar": 40
   },
   "kernels_config": {
    "python": {
     "delete_cmd_postfix": "",
     "delete_cmd_prefix": "del ",
     "library": "var_list.py",
     "varRefreshCmd": "print(var_dic_list())"
    },
    "r": {
     "delete_cmd_postfix": ") ",
     "delete_cmd_prefix": "rm(",
     "library": "var_list.r",
     "varRefreshCmd": "cat(var_dic_list()) "
    }
   },
   "types_to_exclude": [
    "module",
    "function",
    "builtin_function_or_method",
    "instance",
    "_Feature"
   ],
   "window_display": false
  }
 },
 "nbformat": 4,
 "nbformat_minor": 2
}
