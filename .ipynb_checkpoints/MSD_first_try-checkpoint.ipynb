{
 "cells": [
  {
   "cell_type": "code",
   "execution_count": 1,
   "metadata": {},
   "outputs": [],
   "source": [
    "import numpy as np \n",
    "import pandas as pd \n",
    "import mf\n",
    "from nfc.src.mlp import MLP as mlp\n",
    "from scipy.sparse import csr_matrix\n",
    "from mf import MF "
   ]
  },
  {
   "cell_type": "code",
   "execution_count": null,
   "metadata": {},
   "outputs": [],
   "source": [
    "# Read data from file and store them to data_structures\n",
    "f = open('MSD/train_triplets.txt', 'r')\n",
    "songs_count = dict()\n",
    "songs_per_user = dict()\n",
    "user_to_songs = dict() \n",
    "valid_songs = set()\n",
    "for line in f:\n",
    "    user,song,_ = line.strip().split('\\t')\n",
    "    valid_songs.add(song)\n",
    "    if song in songs_count:\n",
    "        songs_count[song]+=1\n",
    "    else:\n",
    "        songs_count[song] = 1\n",
    "    if user in user_to_songs:\n",
    "        user_to_songs[user].add(song)\n",
    "    else:\n",
    "        user_to_songs[user] = set([song])\n",
    "    if user in songs_per_user:\n",
    "        songs_per_user[user]+=1\n",
    "    else:\n",
    "        songs_per_user[user] = 1\n",
    "f.close()"
   ]
  },
  {
   "cell_type": "code",
   "execution_count": null,
   "metadata": {},
   "outputs": [],
   "source": [
    "min_number_of_songs = 20 \n",
    "min_number_of_listaeners = 200\n",
    "valid_songs = [s for s in valid_songs if songs_count[s] >= min_number_of_listeners]\n",
    "user_to_songs = {k: v for k, v in user_to_songs.items() if songs_per_user[k]>=min_number_of_songs}\n",
    "\n",
    "print(\"DataSet was read. We have\",len(valid_songs),\"songs\")\n",
    "# Data preprocessing - Only keep users with more than 20 songs and songs that have been listened by at least 200 users!\n",
    "\n",
    "for user,user_songs in user_to_songs.items():\n",
    "    new_list = [s for s in list(user_songs) if songs_count[s] >= min_number_of_listeners]\n",
    "    user_to_songs[user] = new_list\n",
    "\n",
    "user_data = {k: v for k, v in user_to_songs.items() if v}\n",
    "user_to_songs = None # Release Memory \n",
    "\n",
    "# print(\"Number of users are:\",len(user_data))\n",
    "# Creating sparse matrix Coordinate Format (COO)\n",
    "\n",
    "users = {}\n",
    "songs = {}\n",
    "i = 0 # Index for users\n",
    "for user in user_data.keys():\n",
    "    users[i] = user\n",
    "    i+=1\n",
    "j = 0 # index for songs\n",
    "for song in valid_songs:\n",
    "    songs[j] = song\n",
    "    j+=1"
   ]
  },
  {
   "cell_type": "code",
   "execution_count": null,
   "metadata": {},
   "outputs": [],
   "source": [
    "number_of_users = len(users)\n",
    "number_of_songs = len(songs)\n",
    "print(number_of_users,number_of_songs)\n",
    "\n",
    "# Prepare data for sparse representation\n",
    "row = []\n",
    "column = []\n",
    "data = []\n",
    "for user_index,user in users.items():\n",
    "    for song_index,song in songs.items():\n",
    "        row.append(user_index)\n",
    "        column.append(song_index)\n",
    "        # Implicit feedback (1 if the user has interacted with the song, 0 else)\n",
    "        \n",
    "        data.append(1 if (song in user_to_songs[user]) else 0)\n",
    "user_data = None"
   ]
  },
  {
   "cell_type": "code",
   "execution_count": 3,
   "metadata": {},
   "outputs": [],
   "source": [
    "ser_to_songs = None # Release Memory         \n",
    "row = np.array(row)\n",
    "column = np.array(column)\n",
    "data = np.array(data)\n",
    "R = csr_matrix((data, (row, column)),shape=(number_of_users,number_of_songs))\n",
    "mf = MF(R, 5, 0.05, 1, 20)"
   ]
  },
  {
   "cell_type": "code",
   "execution_count": 2,
   "metadata": {},
   "outputs": [],
   "source": [
    "row = np.array([1,2,3,4])\n",
    "column = np.array([0,3,1,1])\n",
    "data = np.array([1,2,3,4])\n",
    "R = csr_matrix((data, (row, column)),shape=(5,5))"
   ]
  },
  {
   "cell_type": "code",
   "execution_count": 11,
   "metadata": {},
   "outputs": [
    {
     "data": {
      "text/plain": [
       "0"
      ]
     },
     "execution_count": 11,
     "metadata": {},
     "output_type": "execute_result"
    }
   ],
   "source": [
    "R[2,2]"
   ]
  },
  {
   "cell_type": "code",
   "execution_count": 2,
   "metadata": {},
   "outputs": [
    {
     "name": "stderr",
     "output_type": "stream",
     "text": [
      "usage: ipykernel_launcher.py [-h] [--use_gpu [USE_GPU]] [--feedback FEEDBACK]\n",
      "                             [--dataset DATASET]\n",
      "                             [--experiment_name EXPERIMENT_NAME]\n",
      "                             [--embedding_dim EMBEDDING_DIM]\n",
      "                             [--training_epochs TRAINING_EPOCHS]\n",
      "                             [--batch_size BATCH_SIZE]\n",
      "                             [--learning_rate LEARNING_RATE]\n",
      "                             [--l2_regularizer L2_REGULARIZER]\n",
      "                             [--on_cluster ON_CLUSTER] [--optim OPTIM] [--k K]\n",
      "                             [--neg_examples NEG_EXAMPLES]\n",
      "ipykernel_launcher.py: error: unrecognized arguments: -f /run/user/1000/jupyter/kernel-002b586b-b9b4-4b65-8c5a-a3d6d486011e.json\n"
     ]
    },
    {
     "ename": "SystemExit",
     "evalue": "2",
     "output_type": "error",
     "traceback": [
      "An exception has occurred, use %tb to see the full traceback.\n",
      "\u001b[0;31mSystemExit\u001b[0m\u001b[0;31m:\u001b[0m 2\n"
     ]
    }
   ],
   "source": [
    "import torch\n",
    "import numpy as np\n",
    "from spotlight.cross_validation import train_test_timebased_split\n",
    "from spotlight.datasets.movielens import get_movielens_dataset\n",
    "from spotlight.evaluation import rmse_score,precision_recall_score,evaluate_PopItems_Random\n",
    "import spotlight.optimizers as optimizers\n",
    "from spotlight.factorization.implicit import ImplicitFactorizationModel\n",
    "from spotlight.factorization.representations import BilinearNet\n",
    "from spotlight.sampling import get_negative_samples\n",
    "from utils.helper_functions import make_implicit\n",
    "\n",
    "import logging\n",
    "logging.basicConfig(format='%(message)s',level=logging.INFO)\n",
    "\n",
    "\n",
    "use_cuda=args.use_gpu\n",
    "dataset_name = 'MoviesLens_100K'\n",
    "\n",
    "logging.info(\"DataSet MovieLens_%s will be used\"%dataset_name)\n",
    "\n",
    "if args.on_cluster:\n",
    "    path = '/disk/scratch/s1877727/datasets/movielens/'\n",
    "else:\n",
    "    path = 'datasets/movielens/'\n",
    "\n",
    "dataset,item_popularity = get_movielens_dataset(variant=dataset_name,path=path)\n",
    "\n",
    "# ------------------- #\n",
    "#Transform the dataset to implicit feedback\n",
    "\n",
    "dataset = make_implicit(dataset)\n",
    "\n",
    "# train, test = random_train_test_split(dataset,test_percentage=0.3)\n",
    "train,test = train_test_timebased_split(dataset,test_percentage=0.2)\n",
    "users, movies = train.num_users,train.num_items\n"
   ]
  },
  {
   "cell_type": "code",
   "execution_count": null,
   "metadata": {},
   "outputs": [],
   "source": []
  }
 ],
 "metadata": {
  "kernelspec": {
   "display_name": "Python 3",
   "language": "python",
   "name": "python3"
  },
  "language_info": {
   "codemirror_mode": {
    "name": "ipython",
    "version": 3
   },
   "file_extension": ".py",
   "mimetype": "text/x-python",
   "name": "python",
   "nbconvert_exporter": "python",
   "pygments_lexer": "ipython3",
   "version": "3.6.8"
  },
  "varInspector": {
   "cols": {
    "lenName": 16,
    "lenType": 16,
    "lenVar": 40
   },
   "kernels_config": {
    "python": {
     "delete_cmd_postfix": "",
     "delete_cmd_prefix": "del ",
     "library": "var_list.py",
     "varRefreshCmd": "print(var_dic_list())"
    },
    "r": {
     "delete_cmd_postfix": ") ",
     "delete_cmd_prefix": "rm(",
     "library": "var_list.r",
     "varRefreshCmd": "cat(var_dic_list()) "
    }
   },
   "types_to_exclude": [
    "module",
    "function",
    "builtin_function_or_method",
    "instance",
    "_Feature"
   ],
   "window_display": false
  }
 },
 "nbformat": 4,
 "nbformat_minor": 2
}
